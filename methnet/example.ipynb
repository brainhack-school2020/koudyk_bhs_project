{
 "cells": [
  {
   "cell_type": "markdown",
   "metadata": {},
   "source": [
    "# Example of how to use methnet"
   ]
  },
  {
   "cell_type": "code",
   "execution_count": null,
   "metadata": {},
   "outputs": [],
   "source": [
    "import methnet_master as methnet\n",
    "from IPython.display import Image\n",
    "\n",
    "field_query = '\"functional neuroimaging\"[mesh] AND music[mesh]'\n",
    "list_methods_queries = ['spm', 'afni', 'nilearn', 'fsl']\n",
    "list_method_colors = ['green', 'dodgerblue', 'orange', 'red']\n",
    "data_id = \"example\"\n",
    "gif_id = \"example\"\n",
    "\n",
    "gif_path, png_path, data = \\\n",
    "    methnet.get_methnet(field_query=field_query,\n",
    "                   list_methods_queries=list_methods_queries,\n",
    "                   data_id=data_id,\n",
    "                   gif_id=gif_id,\n",
    "                   list_method_colors=list_method_colors, \n",
    "                   constant_color='black',\n",
    "                   none_color='black',\n",
    "                   sort_by_year=True)\n",
    "\n",
    "# if you're running this in a jupyter notebook, \n",
    "# this line will show the gif inline\n",
    "Image(gif_path)"
   ]
  }
 ],
 "metadata": {
  "jupytext": {
   "formats": "ipynb,py:light"
  },
  "kernelspec": {
   "display_name": "Python 3",
   "language": "python",
   "name": "python3"
  },
  "language_info": {
   "codemirror_mode": {
    "name": "ipython",
    "version": 3
   },
   "file_extension": ".py",
   "mimetype": "text/x-python",
   "name": "python",
   "nbconvert_exporter": "python",
   "pygments_lexer": "ipython3",
   "version": "3.7.3"
  }
 },
 "nbformat": 4,
 "nbformat_minor": 2
}
